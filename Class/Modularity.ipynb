{
 "cells": [
  {
   "cell_type": "markdown",
   "metadata": {},
   "source": [
    "# Modules"
   ]
  },
  {
   "cell_type": "markdown",
   "metadata": {},
   "source": [
    "> Modules are single python file that can be imported and used inside another file."
   ]
  },
  {
   "cell_type": "markdown",
   "metadata": {},
   "source": [
    "## import"
   ]
  },
  {
   "cell_type": "markdown",
   "metadata": {},
   "source": [
    "We use __import__ statement to import a python file into another python file, when the module will be imported, he will be ran. Inside the other python file, all the functions and classes of the module can be accessed by `module_name.function_name`"
   ]
  },
  {
   "cell_type": "markdown",
   "metadata": {},
   "source": [
    "## from "
   ]
  },
  {
   "cell_type": "markdown",
   "metadata": {},
   "source": [
    "We can import specific functions from a module with the `from` statement.\n",
    "> When using `from`, there is no need to call them with `module_name.function_name` syntax, they are directly imported and we can call them with `function_name` only.<br>\n",
    "\n",
    "__Example__:<br>\n",
    "`from mymodule import myfunction`"
   ]
  },
  {
   "cell_type": "markdown",
   "metadata": {},
   "source": [
    "## as"
   ]
  },
  {
   "cell_type": "markdown",
   "metadata": {},
   "source": [
    "We can use aliases to change the name of the module inside the program.<br>\n",
    "__Example:__<br>\n",
    "`import mymodule as mod`"
   ]
  },
  {
   "cell_type": "markdown",
   "metadata": {},
   "source": [
    "## pip"
   ]
  },
  {
   "cell_type": "markdown",
   "metadata": {},
   "source": [
    "__pip__ is a python packages manager, it can download and install packages alone, it take them automatically from pypi.org, but can also install a downloaded package. "
   ]
  },
  {
   "cell_type": "markdown",
   "metadata": {},
   "source": [
    "# Package\n",
    "> A package is made up of multiple python files, and can even include librairies in C or C++, it's an entier folder."
   ]
  },
  {
   "cell_type": "markdown",
   "metadata": {},
   "source": [
    "### __init__.py\n",
    "A lot of time when looking at the structure of the packages, you'll see a file called `__init__.py`, this is the old syntax to create python packages, it's not necessary today but most of the packages are built like this. This file is executed when the package is loaded.<br>\n",
    "Every module in the package can be loaded alone by using `from my_package import my_module`"
   ]
  },
  {
   "cell_type": "markdown",
   "metadata": {},
   "source": [
    "***\n",
    "# Exercises"
   ]
  },
  {
   "cell_type": "markdown",
   "metadata": {},
   "source": [
    "## Haunted hotel\n",
    "\n",
    "You have to create a package called `HauntedHotel`. Here are the files to create inside it"
   ]
  },
  {
   "cell_type": "markdown",
   "metadata": {},
   "source": [
    "### 1: `hotel.py` \n",
    "This should contain a class `Hotel` with those attributes:\n",
    "-  Two dictionnaries with every client as key and residence floor as value for human and ghosts\n",
    "-  number of floors\n",
    "-  Capacity of a floor\n",
    "-  A dictionnary with every floor as keys and list of current residents at this floor as value\n",
    "\n",
    "It should have the following methods:\n",
    "-  Close floor\n"
   ]
  },
  {
   "cell_type": "markdown",
   "metadata": {},
   "source": [
    "### 2: `client.py`\n",
    "\n",
    "This should contain three classes: `Client` and his two children `HumanClient` and `GhostClient`.<br>\n",
    "__Client__ should have those attributes:\n",
    "-  a name\n",
    "-  an age\n",
    "-  residence floor<Br>\n",
    "And those methods:\n",
    "-  Enter the hotel\n",
    "-  Exit the hotel \n",
    "-  Change floor \n",
    "<br>\n",
    "<br>\n",
    "__HumanClient__ should have the following rules:\n",
    "-  To enter the hotel, the hotel must have available space, when a human enters the hotel, he stay there for 7 days\n",
    "-  To change floor, the floor must have available space\n",
    "<br>\n",
    "<br>\n",
    "\n",
    "__GhostClient__ have some additional features:\n",
    "-  He can fear someone from his floor, when a ghost fears a human, the human goes in the floor below, if there is no place available, he is going to the next one, until he finds a floor with some place, if there is no place anymore, he just leave the hotel\n",
    "-  If a floor is left without humans, all the ghosts are going down to the floor below."
   ]
  },
  {
   "cell_type": "markdown",
   "metadata": {},
   "source": [
    "### Out of the package: make a `game.py` file\n",
    "\n",
    "This should simulate nights in the hotel, every night, every ghost fear one human, the ghosts win when the hotel is empty.<br>\n",
    "- Every 4 days, someone is entering the hotel and stays for 7 days.\n",
    "- Ghost appear on the 30th day. They are 3 on each floor"
   ]
  },
  {
   "cell_type": "code",
   "execution_count": null,
   "metadata": {},
   "outputs": [],
   "source": []
  }
 ],
 "metadata": {
  "kernelspec": {
   "display_name": "Python 3",
   "language": "python",
   "name": "python3"
  },
  "language_info": {
   "codemirror_mode": {
    "name": "ipython",
    "version": 3
   },
   "file_extension": ".py",
   "mimetype": "text/x-python",
   "name": "python",
   "nbconvert_exporter": "python",
   "pygments_lexer": "ipython3",
   "version": "3.7.3"
  }
 },
 "nbformat": 4,
 "nbformat_minor": 2
}
