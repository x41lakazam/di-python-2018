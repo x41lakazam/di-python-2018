{
 "cells": [
  {
   "cell_type": "markdown",
   "metadata": {},
   "source": [
    "# Flask provide a lot of useful decorators"
   ]
  },
  {
   "cell_type": "markdown",
   "metadata": {},
   "source": [
    "## before and after request"
   ]
  },
  {
   "cell_type": "markdown",
   "metadata": {},
   "source": [
    "Flask provide two decorators that run functions before and after request "
   ]
  },
  {
   "cell_type": "markdown",
   "metadata": {},
   "source": [
    "To run a function before every request, use:\n",
    "<pre><code>@app.before_request</code></pre>"
   ]
  },
  {
   "cell_type": "markdown",
   "metadata": {},
   "source": [
    "This function will be run before each and every endpoint of your app"
   ]
  },
  {
   "cell_type": "code",
   "execution_count": null,
   "metadata": {},
   "outputs": [],
   "source": [
    "@app.before_request\n",
    "def require_authentication():\n",
    "    if flask_login.current_user.is_anonymous:\n",
    "        return flask_redirect(flask.url_for('homepage'))"
   ]
  },
  {
   "cell_type": "markdown",
   "metadata": {},
   "source": [
    "To run a function after every request, use:\n",
    "<pre><code>@app.after_request</code></pre>\n",
    "The function needs to receive a response argument, it's the returned value of the function, the response that should have been sent by the endpoint"
   ]
  },
  {
   "cell_type": "markdown",
   "metadata": {},
   "source": [
    "from datetime import datetime\n",
    "\n",
    "@app.after_request\n",
    "def add_to_log(response):\n",
    "    with open('log.txt', 'a') as f:\n",
    "        f.write(\"#\"*50, '\\n')\n",
    "        f.write((datetime.now()),'\\n')\n",
    "        f.write(response, '\\n')\n",
    "        f.write(\"#\"*50,'\\n')\n",
    "\n",
    "        \n",
    "    "
   ]
  },
  {
   "cell_type": "markdown",
   "metadata": {},
   "source": [
    "> More specific decorators are available, like `before_first_request` "
   ]
  },
  {
   "cell_type": "markdown",
   "metadata": {},
   "source": [
    "## Context decorators\n",
    "\n",
    "Did you notice that some variables/functions are by default available in flask templates ? You can add some variables to the app context, that will be accessible from everywhere.<br>\n",
    "<br>\n",
    "Context decorators should decorate a function that returns a dictionnary, in this format:\n",
    "<pre><code>{\n",
    "    variable_name: variable_value,\n",
    "    variable_name: variable_value,\n",
    "    variable_name: variable_value\n",
    "}</code></pre>\n",
    "<br>\n",
    "For example, to add a permanent variable to the shell context:"
   ]
  },
  {
   "cell_type": "code",
   "execution_count": null,
   "metadata": {},
   "outputs": [],
   "source": [
    "@app.shell_context_processor\n",
    "def add_variables_to_shell():\n",
    "    return {\n",
    "        'my_name': 'Eyal',\n",
    "        'my_age': 30,\n",
    "    }"
   ]
  },
  {
   "cell_type": "markdown",
   "metadata": {},
   "source": [
    "Now in the shell, you can access `my_name` without having to define it."
   ]
  },
  {
   "cell_type": "markdown",
   "metadata": {},
   "source": [
    "You can also use a decorator to define some default variables in jinja templates"
   ]
  },
  {
   "cell_type": "code",
   "execution_count": null,
   "metadata": {},
   "outputs": [],
   "source": [
    "def myfunction():\n",
    "    return \"Hello world\"\n",
    "    \n",
    "@app.context_processor\n",
    "def predefined_jinja_vars():\n",
    "    return {\n",
    "        \"myfunction\": myfunction\n",
    "    }"
   ]
  },
  {
   "cell_type": "markdown",
   "metadata": {},
   "source": [
    "## Call a function on a specific error"
   ]
  },
  {
   "cell_type": "markdown",
   "metadata": {},
   "source": [
    "With `handle_exception(code)` decorator, you can define a function that will be ran when an HTTP error occurs."
   ]
  },
  {
   "cell_type": "code",
   "execution_count": null,
   "metadata": {
    "scrolled": true
   },
   "outputs": [],
   "source": [
    "@app.handle_exception(404)\n",
    "def error_404():\n",
    "    return \"Sorry, this page doesn't exist\""
   ]
  }
 ],
 "metadata": {
  "kernelspec": {
   "display_name": "Python 3",
   "language": "python",
   "name": "python3"
  },
  "language_info": {
   "codemirror_mode": {
    "name": "ipython",
    "version": 3
   },
   "file_extension": ".py",
   "mimetype": "text/x-python",
   "name": "python",
   "nbconvert_exporter": "python",
   "pygments_lexer": "ipython3",
   "version": "3.6.5"
  }
 },
 "nbformat": 4,
 "nbformat_minor": 2
}
