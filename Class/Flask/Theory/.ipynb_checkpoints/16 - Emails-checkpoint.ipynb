{
 "cells": [
  {
   "cell_type": "markdown",
   "metadata": {},
   "source": [
    "### F irst\n",
    "You need to set a bunch of variables in your environnement.<br>\n",
    "> Setting an environnement variable on windows is done by `set VARIABLE_NAME=value`\n",
    "> Setting an environnement variable on unix is done by `export VARIABLE_NAME=value`"
   ]
  },
  {
   "cell_type": "raw",
   "metadata": {},
   "source": [
    "$ export MAIL_SERVER=smtp.gmail.com\n",
    "$ export MAIL_PORT=587\n",
    "$ export MAIL_USE_TLS=1\n",
    "$ export MAIL_USERNAME=bootcampdevinstitute@gmail.com\n",
    "$ export MAIL_PASSWORD=aA123456!"
   ]
  },
  {
   "cell_type": "markdown",
   "metadata": {},
   "source": [
    "# Send an email with flask_mail\n",
    "\n",
    "flask_mail provide a `Mail` class that allow you to send mails.<br>\n",
    "\n",
    "<small>In the __init__.py</small>"
   ]
  },
  {
   "cell_type": "code",
   "execution_count": null,
   "metadata": {},
   "outputs": [],
   "source": [
    "# ...\n",
    "import flask_mail\n",
    "\n",
    "# ...\n",
    "\n",
    "app = flask.Flask(__name__)\n",
    "# define the mail object\n",
    "mail = flask_mail.Mail(app)\n",
    "\n",
    "# ..."
   ]
  }
 ],
 "metadata": {
  "kernelspec": {
   "display_name": "Python 3",
   "language": "python",
   "name": "python3"
  },
  "language_info": {
   "codemirror_mode": {
    "name": "ipython",
    "version": 3
   },
   "file_extension": ".py",
   "mimetype": "text/x-python",
   "name": "python",
   "nbconvert_exporter": "python",
   "pygments_lexer": "ipython3",
   "version": "3.7.3"
  }
 },
 "nbformat": 4,
 "nbformat_minor": 2
}
