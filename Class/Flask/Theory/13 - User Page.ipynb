{
 "cells": [
  {
   "cell_type": "markdown",
   "metadata": {},
   "source": [
    "# User Profile Page"
   ]
  },
  {
   "cell_type": "markdown",
   "metadata": {},
   "source": [
    "## Receiving arguments in URL\n",
    "We can receive arguments in url by surrounding them with `<` and `>`. Those arguments will be sent in the function `**kwargs`.<br>\n",
    "For example:"
   ]
  },
  {
   "cell_type": "code",
   "execution_count": null,
   "metadata": {
    "scrolled": true
   },
   "outputs": [],
   "source": [
    "@app.route('/users/<user_id>')\n",
    "def show_user(user_id): # user_id will be filled by the value passed in the url\n",
    "    models.User.get(user_id) "
   ]
  },
  {
   "cell_type": "markdown",
   "metadata": {},
   "source": [
    "Let's create a simulation of a profile page.<br>\n",
    "__Template:__"
   ]
  },
  {
   "cell_type": "raw",
   "metadata": {},
   "source": [
    "{% extends \"base.html\" %}\n",
    "\n",
    "{% block content %}\n",
    "    <h1>User: {{ user.username }}</h1>\n",
    "    <hr>\n",
    "    {% for post in posts %}\n",
    "    <p>\n",
    "    {{ post.author.username }} says: <b>{{ post.body }}</b>\n",
    "    </p>\n",
    "    {% endfor %}\n",
    "{% endblock %}"
   ]
  },
  {
   "cell_type": "markdown",
   "metadata": {},
   "source": [
    "__View:__"
   ]
  },
  {
   "cell_type": "code",
   "execution_count": null,
   "metadata": {},
   "outputs": [],
   "source": [
    "@app.route('/user/<username>')\n",
    "def user(username):\n",
    "    user = User.query.filter_by(username=username).first_or_404()\n",
    "    posts = [\n",
    "        {'author': user, 'body': 'Test post #1'},\n",
    "        {'author': user, 'body': 'Test post #2'}\n",
    "    ]\n",
    "    return render_template('user.html', user=user, posts=posts)"
   ]
  },
  {
   "cell_type": "markdown",
   "metadata": {},
   "source": [
    "***\n",
    "## Adding a *Last seen* option to the model\n",
    "We can add a *last seen* option in the model"
   ]
  },
  {
   "cell_type": "code",
   "execution_count": 1,
   "metadata": {},
   "outputs": [
    {
     "ename": "NameError",
     "evalue": "name 'UserMixin' is not defined",
     "output_type": "error",
     "traceback": [
      "\u001b[0;31m---------------------------------------------------------------------------\u001b[0m",
      "\u001b[0;31mNameError\u001b[0m                                 Traceback (most recent call last)",
      "\u001b[0;32m<ipython-input-1-47bb271c3d38>\u001b[0m in \u001b[0;36m<module>\u001b[0;34m\u001b[0m\n\u001b[1;32m      1\u001b[0m \u001b[0;32mfrom\u001b[0m \u001b[0mdatetime\u001b[0m \u001b[0;32mimport\u001b[0m \u001b[0mdatetime\u001b[0m\u001b[0;34m\u001b[0m\u001b[0;34m\u001b[0m\u001b[0m\n\u001b[0;32m----> 2\u001b[0;31m \u001b[0;32mclass\u001b[0m \u001b[0mUser\u001b[0m\u001b[0;34m(\u001b[0m\u001b[0mUserMixin\u001b[0m\u001b[0;34m,\u001b[0m \u001b[0mdb\u001b[0m\u001b[0;34m.\u001b[0m\u001b[0mModel\u001b[0m\u001b[0;34m)\u001b[0m\u001b[0;34m:\u001b[0m\u001b[0;34m\u001b[0m\u001b[0;34m\u001b[0m\u001b[0m\n\u001b[0m\u001b[1;32m      3\u001b[0m     \u001b[0;31m# ...\u001b[0m\u001b[0;34m\u001b[0m\u001b[0;34m\u001b[0m\u001b[0;34m\u001b[0m\u001b[0m\n\u001b[1;32m      4\u001b[0m     \u001b[0mlast_seen\u001b[0m \u001b[0;34m=\u001b[0m \u001b[0mdb\u001b[0m\u001b[0;34m.\u001b[0m\u001b[0mColumn\u001b[0m\u001b[0;34m(\u001b[0m\u001b[0mdb\u001b[0m\u001b[0;34m.\u001b[0m\u001b[0mDateTime\u001b[0m\u001b[0;34m(\u001b[0m\u001b[0;34m)\u001b[0m\u001b[0;34m,\u001b[0m \u001b[0mdefault\u001b[0m\u001b[0;34m=\u001b[0m\u001b[0mdatetime\u001b[0m\u001b[0;34m.\u001b[0m\u001b[0mutcnow\u001b[0m\u001b[0;34m)\u001b[0m\u001b[0;34m\u001b[0m\u001b[0;34m\u001b[0m\u001b[0m\n\u001b[1;32m      5\u001b[0m     \u001b[0;31m# ...\u001b[0m\u001b[0;34m\u001b[0m\u001b[0;34m\u001b[0m\u001b[0;34m\u001b[0m\u001b[0m\n",
      "\u001b[0;31mNameError\u001b[0m: name 'UserMixin' is not defined"
     ]
    }
   ],
   "source": [
    "from datetime import datetime\n",
    "class User(UserMixin, db.Model):\n",
    "    # ...\n",
    "    last_seen = db.Column(db.DateTime(), default=datetime.utcnow)\n",
    "    # ..."
   ]
  },
  {
   "cell_type": "markdown",
   "metadata": {},
   "source": [
    "But we need to update it, we can do it in the login view function, in routes.py."
   ]
  },
  {
   "cell_type": "code",
   "execution_count": null,
   "metadata": {},
   "outputs": [],
   "source": [
    "from datetime import datetime\n",
    "\n",
    "def login_view():\n",
    "    # ... \n",
    "    user = User(#...)\n",
    "    user.last_seen = datetime.utcnow"
   ]
  },
  {
   "cell_type": "markdown",
   "metadata": {},
   "source": [
    "Then, updating the template should be easy"
   ]
  },
  {
   "cell_type": "raw",
   "metadata": {},
   "source": [
    "#...\n",
    "<h1>{{ user.username }}</h1>\n",
    "<p>Last seen on: {{ user.last_seen }}</p>\n",
    "#..."
   ]
  },
  {
   "cell_type": "markdown",
   "metadata": {},
   "source": [
    "***\n",
    "## Adding a *Status*\n",
    "\n",
    "We can add a status attribute, first add it to the model"
   ]
  },
  {
   "cell_type": "code",
   "execution_count": null,
   "metadata": {},
   "outputs": [],
   "source": [
    "from datetime import datetime\n",
    "class User(UserMixin, db.Model):\n",
    "    # ...\n",
    "    status = db.Column(db.String(140), default=\"Hello World !\")\n",
    "    # ..."
   ]
  },
  {
   "cell_type": "markdown",
   "metadata": {},
   "source": [
    "Then render it on the template\n"
   ]
  },
  {
   "cell_type": "raw",
   "metadata": {},
   "source": [
    "<h1>User: {{ user.username }}</h1>\n",
    "<p>{{ user.about_me }}</p>"
   ]
  },
  {
   "cell_type": "markdown",
   "metadata": {},
   "source": [
    "***\n",
    "## Add a profile editor "
   ]
  },
  {
   "cell_type": "markdown",
   "metadata": {},
   "source": [
    "We can add a page for the user to edit his profile. To modify status, password or email. This page needs user input, so it should be a form. For now, let's only add a field to modify the status. <br>\n",
    "We can use a different type of field for this, the `TextAreaField`, which will display a box to input the data."
   ]
  },
  {
   "cell_type": "raw",
   "metadata": {},
   "source": [
    "import wtforms\n",
    "from wtforms import validators\n",
    "\n",
    "class ProfileEditorForm(wtforms.FlaskForm):\n",
    "    about_me = wtforms.TextAreaField('About me')\n",
    "    submit = wtforms.SubmitField('Submit')"
   ]
  },
  {
   "cell_type": "markdown",
   "metadata": {},
   "source": [
    "The template needs to be modified a little, `TextAreaField` needs two parameters: a number of rows and a number of columns."
   ]
  },
  {
   "cell_type": "raw",
   "metadata": {},
   "source": [
    "<p>\n",
    "    {{ form.about_me.label }}<br>\n",
    "    {{ form.about_me(cols=50, rows=4) }}<br>\n",
    "</p>"
   ]
  },
  {
   "cell_type": "markdown",
   "metadata": {},
   "source": [
    "We also need a back end function to handle this. In *routes.py*:"
   ]
  },
  {
   "cell_type": "code",
   "execution_count": null,
   "metadata": {},
   "outputs": [],
   "source": [
    "from app import forms\n",
    "\n",
    "@app.route('/edit_profile', methods=['GET', 'POST'])\n",
    "@login_required\n",
    "def edit_profile():\n",
    "    form = forms.ProfileEditorForm()\n",
    "    if form.validate_on_submit():\n",
    "        current_user.username = form.username.data\n",
    "        current_user.about_me = form.about_me.data\n",
    "        db.session.commit()\n",
    "        return flask.redirect(url_for('edit_profile'))\n",
    "    return flask.render_template('edit_profile.html', title='Edit Profile',\n",
    "                           form=form)"
   ]
  },
  {
   "cell_type": "markdown",
   "metadata": {},
   "source": [
    "## Pre-fill the fields in the form\n",
    "\n",
    "In fact, `form.validate_on_submit()` return false if the form contains errors OR if the request sent by the user wasn't POST, PUT, PATCH or DELETE.<br>\n",
    "When the form is being requested, a GET request is sent, we need to use this GET request to fill the fields in the post. The GET request the \"*initialization*\" of the form<br>\n",
    "We can check the type of the request by using `request.method`.<br>\n",
    "<br>\n",
    "When the form is requested, we want to assign value to the `about_me` field.\n"
   ]
  },
  {
   "cell_type": "code",
   "execution_count": null,
   "metadata": {},
   "outputs": [],
   "source": [
    "from app import forms\n",
    "\n",
    "@app.route('/edit_profile', methods=['GET', 'POST'])\n",
    "@login_required\n",
    "def edit_profile():\n",
    "    form = forms.ProfileEditorForm()\n",
    "    \n",
    "    if form.validate_on_submit():\n",
    "        \n",
    "        current_user.username = form.username.data\n",
    "        current_user.about_me = form.about_me.data\n",
    "        \n",
    "        db.session.commit()\n",
    "        \n",
    "        return flask.redirect(url_for('edit_profile'))\n",
    "    \n",
    "    elif request.method == 'GET':                  # if the request method is GET\n",
    "        form.about_me.data = current_user.about_me   # assign a value to the about_me form\n",
    "        \n",
    "    return flask.render_template('edit_profile.html', title='Edit Profile',\n",
    "                           form=form)"
   ]
  }
 ],
 "metadata": {
  "kernelspec": {
   "display_name": "Python 3",
   "language": "python",
   "name": "python3"
  },
  "language_info": {
   "codemirror_mode": {
    "name": "ipython",
    "version": 3
   },
   "file_extension": ".py",
   "mimetype": "text/x-python",
   "name": "python",
   "nbconvert_exporter": "python",
   "pygments_lexer": "ipython3",
   "version": "3.7.3"
  }
 },
 "nbformat": 4,
 "nbformat_minor": 2
}
