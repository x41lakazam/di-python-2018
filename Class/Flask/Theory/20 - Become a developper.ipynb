{
 "cells": [
  {
   "cell_type": "markdown",
   "metadata": {},
   "source": [
    "# Being a good developper is much more than having skills"
   ]
  },
  {
   "cell_type": "markdown",
   "metadata": {},
   "source": [
    "## Try to stay updated\n",
    "\n",
    "The technology is moving really fast, and if you just remain on what you know, you will be useless in two years. Try to keep practicing, keep looking at new things on forums, maybe learn other languages ? "
   ]
  },
  {
   "cell_type": "markdown",
   "metadata": {},
   "source": [
    "## Keep learning\n",
    "\n",
    "Nobody knows everything, search on internet for every problem, ask stack overflow etc.."
   ]
  },
  {
   "cell_type": "markdown",
   "metadata": {},
   "source": [
    "## Be a good business man \n",
    "\n",
    "There is a lot of developper jobs, you need to find the right one, and sell yourself!"
   ]
  },
  {
   "cell_type": "markdown",
   "metadata": {},
   "source": [
    "## Prepare for interviews\n",
    "Most of the time, the questions at job interview look the same, try to prepare yourself to this, there is a lot of interview example on internet."
   ]
  },
  {
   "cell_type": "markdown",
   "metadata": {},
   "source": [
    "## Have fun\n",
    "\n",
    "The best practice is when you build your own projects, for the fun ! "
   ]
  }
 ],
 "metadata": {
  "kernelspec": {
   "display_name": "Python 3",
   "language": "python",
   "name": "python3"
  },
  "language_info": {
   "codemirror_mode": {
    "name": "ipython",
    "version": 3
   },
   "file_extension": ".py",
   "mimetype": "text/x-python",
   "name": "python",
   "nbconvert_exporter": "python",
   "pygments_lexer": "ipython3",
   "version": "3.7.3"
  }
 },
 "nbformat": 4,
 "nbformat_minor": 2
}
