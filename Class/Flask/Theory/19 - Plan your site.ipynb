{
 "cells": [
  {
   "cell_type": "markdown",
   "metadata": {},
   "source": [
    "# To build a good website, you need to know what to build\n"
   ]
  },
  {
   "cell_type": "markdown",
   "metadata": {},
   "source": [
    "## Define features\n",
    "\n",
    "Pretty obvious, but before coding, you need to think about the features that will be in your site.<br>\n",
    "To do this, you need to split your main goal into features, and break features into steps."
   ]
  },
  {
   "cell_type": "markdown",
   "metadata": {},
   "source": [
    "## Check what already exist\n",
    "Before doing anything, check on internet if there is a module that can make your life easier on one of the features."
   ]
  },
  {
   "cell_type": "markdown",
   "metadata": {},
   "source": [
    "## Break down UI states"
   ]
  },
  {
   "cell_type": "markdown",
   "metadata": {},
   "source": [
    "Planning each possible state of your site is a very important step in building a website, it helps you writing a little checklist of every needed functions, and program them in an easier way"
   ]
  },
  {
   "cell_type": "markdown",
   "metadata": {},
   "source": [
    "*Example: Authentication*\n",
    "<br><br>\n",
    "Authentication can be broken into Join/Sign in/Sign out. Let's check the possible situations for each state."
   ]
  },
  {
   "cell_type": "markdown",
   "metadata": {},
   "source": [
    "### 1) Join\n",
    "When a user makes a request for the join page, he can be:\n",
    "<br>\n",
    "-  Already signed in, and then we just want to redirect him to the home page\n",
    "-  Not signed in, and then we send him the sign up form\n",
    "\n",
    "<br>\n",
    "Again, when we send him the sign up form, we also have two possible states:\n",
    "<br><br>\n",
    "-  The user already exist\n",
    "-  The user is valid \n",
    "\n",
    "<br>\n",
    "Knowing what you want to do in each of those situations before you start coding is really important."
   ]
  },
  {
   "cell_type": "markdown",
   "metadata": {},
   "source": [
    "### 2) Sign in\n",
    "On a sign in request, same thing:\n",
    "<br>\n",
    "-  The user is anonymous and tries to sign in\n",
    "-  The user is already signed in and try to sign in \n",
    "\n",
    "<br>\n",
    "\n",
    "And after the form:\n",
    "<br>\n",
    "-  The user exist it\n",
    "-  The user doesn't exist\n"
   ]
  },
  {
   "cell_type": "markdown",
   "metadata": {},
   "source": [
    "### 3) Sign out\n",
    "On a sign out request, only two possible things:\n",
    "\n",
    "-  There is a signed in user\n",
    "-  There is no signed in user"
   ]
  },
  {
   "cell_type": "markdown",
   "metadata": {},
   "source": [
    "Now that we broke it into parts, it's easy to program it."
   ]
  },
  {
   "cell_type": "markdown",
   "metadata": {},
   "source": [
    "## Set up a testcase"
   ]
  },
  {
   "cell_type": "markdown",
   "metadata": {},
   "source": [
    "Breaking the possible states also help you building a test case, a test case is a function that fake user interaction and test all the possibilities to see if they all work."
   ]
  },
  {
   "cell_type": "code",
   "execution_count": null,
   "metadata": {},
   "outputs": [],
   "source": []
  }
 ],
 "metadata": {
  "kernelspec": {
   "display_name": "Python 3",
   "language": "python",
   "name": "python3"
  },
  "language_info": {
   "codemirror_mode": {
    "name": "ipython",
    "version": 3
   },
   "file_extension": ".py",
   "mimetype": "text/x-python",
   "name": "python",
   "nbconvert_exporter": "python",
   "pygments_lexer": "ipython3",
   "version": "3.7.3"
  }
 },
 "nbformat": 4,
 "nbformat_minor": 2
}
