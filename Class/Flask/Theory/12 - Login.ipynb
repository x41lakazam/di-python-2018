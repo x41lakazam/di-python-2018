{
 "cells": [
  {
   "cell_type": "markdown",
   "metadata": {},
   "source": [
    "# Login"
   ]
  },
  {
   "cell_type": "markdown",
   "metadata": {},
   "source": [
    "***\n",
    "### Login module\n",
    "\n",
    "`flask-login` is the module that wraps all the logins functions, install it with pip"
   ]
  },
  {
   "cell_type": "markdown",
   "metadata": {},
   "source": [
    "This module provide a login manager, `flask_login.LoginManager` class, to create an object:"
   ]
  },
  {
   "cell_type": "code",
   "execution_count": null,
   "metadata": {},
   "outputs": [],
   "source": [
    "import flask\n",
    "import flask_login\n",
    "\n",
    "app = flask.Flask()\n",
    "# ...\n",
    "\n",
    "login_mngr = flask_login.LoginManager(app)\n",
    "\n",
    "# ..."
   ]
  },
  {
   "cell_type": "markdown",
   "metadata": {},
   "source": [
    "This login manager need us to modify a little our `User` model, because it needs some special attributes, listed below:<br>\n",
    "\n",
    "-    `is_authenticated`: a property that is True if the user has valid credentials or False otherwise.\n",
    "-    `is_active`: a property that is True if the user's account is active or False otherwise.\n",
    "-    `get_id()`: a method that returns a unique identifier for the user as a string.\n",
    "-   `is_anonymous`: a property that is False for regular users, and True for a special, anonymous user.\n",
    "\n",
    "> Anonymous user is a user that is not logged in.\n",
    "\n"
   ]
  },
  {
   "cell_type": "markdown",
   "metadata": {},
   "source": [
    "We can implement those attributes, manually, but we can also change our user model to inherit from `flask_login.UserMixin`, which is appropriated for almost every user class."
   ]
  },
  {
   "cell_type": "code",
   "execution_count": null,
   "metadata": {},
   "outputs": [],
   "source": [
    "from app import db\n",
    "import flask_login\n",
    "\n",
    "# ...\n",
    "class User(flask_login.UserMixin, db.Model):\n",
    "    #..."
   ]
  },
  {
   "cell_type": "markdown",
   "metadata": {},
   "source": [
    "***\n",
    "## User Loader Function\n",
    "\n",
    "flask_login keep trace of logged in user with user id, but he doesn't know anything about the database, we need to help him to retrieve a user from an id.<br>\n",
    "We do this with a function decorated by `LoginManager.user_loader` decorator."
   ]
  },
  {
   "cell_type": "code",
   "execution_count": null,
   "metadata": {
    "collapsed": true
   },
   "outputs": [],
   "source": [
    "from app import login_mngr, models\n",
    "#...\n",
    "\n",
    "@login_mngr.user_load\n",
    "def load_user(userid):\n",
    "    userid = int(userid)\n",
    "    return models.User.query.get(userid)"
   ]
  },
  {
   "cell_type": "markdown",
   "metadata": {},
   "source": [
    "*** \n",
    "## Retrieve the current user\n",
    "`flask_login.current_user` allows us to retrieve the current user logged in."
   ]
  },
  {
   "cell_type": "markdown",
   "metadata": {},
   "source": [
    "***\n",
    "## Loading a user in \n",
    "\n",
    "`flask_login` implement a `login_user` method that can be used to log a user in, this function doesn't make any password check. \n",
    "> This view is assuming you already created a login form that contains *username*, *password* and *remember_me* fields, but you can adapt it to yours."
   ]
  },
  {
   "cell_type": "code",
   "execution_count": null,
   "metadata": {},
   "outputs": [],
   "source": [
    "# ...\n",
    "import flask_login\n",
    "from app import models\n",
    "\n",
    "# ...\n",
    "\n",
    "@app.route('/login', methods=['GET', 'POST'])\n",
    "def login():\n",
    "    if flask_login.current_user.is_authenticated: # Check if the user is not already logged in \n",
    "        return flask.redirect(url_for('index'))\n",
    "    \n",
    "    form = forms.LoginForm() # Load the form\n",
    "    \n",
    "    if form.validate_on_submit(): \n",
    "        # Retrieve the user with the username\n",
    "        user = models.User.query.filter_by(username=form.username.data).first()\n",
    "        \n",
    "        # Check if it exist and if the password is the right password\n",
    "        if user is None or not user.password == form.password.data:\n",
    "            flask.flash('Invalid username or password')\n",
    "            return flask.redirect(url_for('login'))\n",
    "        \n",
    "        # Log the user in\n",
    "        flask_login.login_user(user, remember=form.remember_me.data)\n",
    "        return flask.redirect(url_for('index'))\n",
    "    \n",
    "    return flask.render_template('login.html', title='Sign In', form=form) # Render the form"
   ]
  },
  {
   "cell_type": "markdown",
   "metadata": {},
   "source": [
    "***\n",
    "## Logging user out\n"
   ]
  },
  {
   "cell_type": "code",
   "execution_count": null,
   "metadata": {},
   "outputs": [],
   "source": [
    "# ...\n",
    "import flask_login\n",
    "\n",
    "# ...\n",
    "\n",
    "@app.route('/logout')\n",
    "def logout():\n",
    "    flask_login.logout_user()\n",
    "    return flask.redirect(url_for('index'))"
   ]
  },
  {
   "cell_type": "markdown",
   "metadata": {},
   "source": [
    "***\n",
    "## Using flask_login methods in templates\n",
    "Updating a button on the top:"
   ]
  },
  {
   "cell_type": "raw",
   "metadata": {},
   "source": [
    "    <div>\n",
    "        <a href=\"{{ url_for('index') }}\">Home</a>\n",
    "        {% if current_user.is_anonymous %}\n",
    "        <a href=\"{{ url_for('signin') }}\">Sign In</a>\n",
    "        {% else %}\n",
    "        <a href=\"{{ url_for('logout') }}\">Logout</a>\n",
    "        {% endif %}\n",
    "    </div>"
   ]
  },
  {
   "cell_type": "markdown",
   "metadata": {},
   "source": [
    "***\n",
    "## Requiring Users To Login\n",
    "Flask-Login provides a very useful feature that forces users to log in before they can view certain pages of the application.<br>\n",
    "To use that feature, flask_login needs to know which view handle logins, in our case, it's `login`, we need to configure this in the `__init__.py` of the app."
   ]
  },
  {
   "cell_type": "code",
   "execution_count": null,
   "metadata": {},
   "outputs": [],
   "source": [
    "# ...\n",
    "login_mngr = LoginManager(app)\n",
    "login_mngr.login_view = 'login'"
   ]
  },
  {
   "cell_type": "markdown",
   "metadata": {},
   "source": [
    "Then, you can use the `flask_login.login_required` decorator to protect a view from anonymous users"
   ]
  },
  {
   "cell_type": "code",
   "execution_count": null,
   "metadata": {},
   "outputs": [],
   "source": [
    "import flask_login \n",
    "\n",
    "@app.route('/secret')\n",
    "@flask_login.login_required\n",
    "def secret():\n",
    "    # ..."
   ]
  },
  {
   "cell_type": "markdown",
   "metadata": {},
   "source": [
    "***\n",
    "## Showing The Logged In User in Templates\n",
    "`flask_login.current_user` can be accessed from templates\n"
   ]
  },
  {
   "cell_type": "raw",
   "metadata": {},
   "source": [
    "{% extends \"base.html\" %}\n",
    "\n",
    "{% block content %}\n",
    "    <h1>Hi, {{ current_user.username }}!</h1>\n",
    "    {% for post in posts %}\n",
    "    <div><p>{{ post.author.username }} says: <b>{{ post.body }}</b></p></div>\n",
    "    {% endfor %}\n",
    "{% endblock %}"
   ]
  }
 ],
 "metadata": {
  "kernelspec": {
   "display_name": "Python 3",
   "language": "python",
   "name": "python3"
  },
  "language_info": {
   "codemirror_mode": {
    "name": "ipython",
    "version": 3
   },
   "file_extension": ".py",
   "mimetype": "text/x-python",
   "name": "python",
   "nbconvert_exporter": "python",
   "pygments_lexer": "ipython3",
   "version": "3.7.3"
  }
 },
 "nbformat": 4,
 "nbformat_minor": 2
}
