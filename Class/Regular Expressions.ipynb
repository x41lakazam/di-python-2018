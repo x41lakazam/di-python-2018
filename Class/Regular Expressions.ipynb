{
 "cells": [
  {
   "cell_type": "code",
   "execution_count": 1,
   "metadata": {},
   "outputs": [],
   "source": [
    "import re "
   ]
  },
  {
   "cell_type": "markdown",
   "metadata": {},
   "source": [
    "## Searching functions\n",
    "\n",
    "`re.search(REGEX, STRING)`<br>\n",
    "`re.findall(REGEX, STRING)`"
   ]
  },
  {
   "cell_type": "markdown",
   "metadata": {},
   "source": [
    "`\\` is an escape character, to ignore them, add 'r' before your string<br>\n",
    "Example: `regex = r\"http:\\\\\"`\n",
    "\n",
    "## Matching characters\n",
    "<pre>\n",
    "^ --> beginning of a line\n",
    "$ --> end of the line\n",
    "\n",
    "x  --> match the letter x\n",
    "x* --> 0, 1 or more x\n",
    "x+ --> 1 or more x\n",
    "x? --> 0 or 1 x\n",
    "x{2} --> only 2 x\n",
    "x{2,5} --> between 2 and 5 x\n",
    "x{2,} --> 2 or more x\n",
    "x{,5} --> less than 5 x\n",
    "</pre>\n",
    "\n",
    "## Matching a class\n",
    "- Define a class with brackets<br>\n",
    "Example: `[abcd]` will match a or b or c or d\n",
    "-  Match every number: `[0-9]`\n",
    "-  Match every upper letter: `[A-Z]`\n",
    "-  Match every lower letter: `[a-z]`\n",
    "-  Match every letter: `[a-zA-Z]`\n",
    "-  Match every letter or number: `[a-zA-Z0-9]`\n",
    "-  Match three lower letters: `[a-z]{3}`\n",
    "-  Match every letter or point: `[a-zA-Z.]`\n",
    "\n",
    "## Select a group in the regex\n",
    "-  Match a lower letter between exactly 3 upper letters: `[a-z][A-Z]{3}([a-z])[A-Z]{3}[a-z]`<br>\n",
    "The output will only be the little letter in the middle, because of the brackets"
   ]
  },
  {
   "cell_type": "code",
   "execution_count": 52,
   "metadata": {},
   "outputs": [
    {
     "name": "stdout",
     "output_type": "stream",
     "text": [
      "('https', 'twitter')\n",
      "('http', 'facebook')\n"
     ]
    }
   ],
   "source": [
    "my_string = \"erjfnekjheyndf\\_\\_https:\\\\www.twitter.com_/_/cqkjnfckwjheeynkwjnckjwnc\\_\\_http:\\\\www.facebook.com_/_/ewafdkcajnsdckjandc\"\n",
    "\n",
    "regex = r\"(https?):\\\\w{3}.([a-z]+).com\"\n",
    "\n",
    "matches = re.findall(regex, my_string)\n",
    "for match in matches:\n",
    "    print(match)\n"
   ]
  },
  {
   "cell_type": "markdown",
   "metadata": {},
   "source": [
    "## Match a lowercase letter surrounded by three upper letters from each side"
   ]
  },
  {
   "cell_type": "code",
   "execution_count": 35,
   "metadata": {},
   "outputs": [
    {
     "name": "stdout",
     "output_type": "stream",
     "text": [
      "hey\n"
     ]
    }
   ],
   "source": [
    "mystring = \"adcnadskjcnakjdsncRRRhWASwqedocianksjnWIJeAAJasidcnaksjdncaknEOKyOAKakdjcnaksjdnc\"\n",
    "regex = \"[A-Z]{3}([a-z])[A-Z]{3}\"\n",
    "matches = re.findall(regex, mystring)\n",
    "print(matches.)"
   ]
  },
  {
   "cell_type": "code",
   "execution_count": null,
   "metadata": {
    "scrolled": true
   },
   "outputs": [],
   "source": [
    "file = r\"equality.txt\"\n",
    "with open(file,'r') as f:\n",
    "    content = f.read()\n",
    "    \n",
    "regex = \"[a-z][A-Z]{3}([a-z])[A-Z]{3}[a-z]\"\n",
    "matches = re.findall(regex, content)\n",
    "print(''.join(matches))"
   ]
  },
  {
   "cell_type": "markdown",
   "metadata": {},
   "source": [
    "## Match a phone number"
   ]
  },
  {
   "cell_type": "code",
   "execution_count": 64,
   "metadata": {},
   "outputs": [
    {
     "name": "stdout",
     "output_type": "stream",
     "text": [
      "What is your phone number ?\n",
      ">>> +972586878399\n",
      "Thanks!\n"
     ]
    }
   ],
   "source": [
    "usernumber = input(\"What is your phone number ?\\n>>> \")\n",
    "\n",
    "# +972586878399\n",
    "# 0586878399\n",
    "regex = r\"^\\+?[0-9]{1,3}[0-9]{9}$\"\n",
    "if re.search(regex, usernumber):\n",
    "    print(\"Thanks!\")\n",
    "else:\n",
    "    print(\"What is this number?\")"
   ]
  }
 ],
 "metadata": {
  "kernelspec": {
   "display_name": "Python 3",
   "language": "python",
   "name": "python3"
  },
  "language_info": {
   "codemirror_mode": {
    "name": "ipython",
    "version": 3
   },
   "file_extension": ".py",
   "mimetype": "text/x-python",
   "name": "python",
   "nbconvert_exporter": "python",
   "pygments_lexer": "ipython3",
   "version": "3.7.3"
  }
 },
 "nbformat": 4,
 "nbformat_minor": 2
}
