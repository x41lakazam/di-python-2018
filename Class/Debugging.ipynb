{
 "cells": [
  {
   "cell_type": "markdown",
   "metadata": {},
   "source": [
    "# Debugging\n"
   ]
  },
  {
   "cell_type": "markdown",
   "metadata": {},
   "source": [
    "### Read the error"
   ]
  },
  {
   "cell_type": "markdown",
   "metadata": {},
   "source": [
    "### 1. Structure of an error"
   ]
  },
  {
   "cell_type": "markdown",
   "metadata": {},
   "source": [
    "### 2. Types of errors\n",
    "#### <span style=\"color:red\">SyntaxError</span>:  Problem while translating the source code into byte code. This indicate you did something wrong in the structure of the program (example: omitting a colon at the end of an `def` statements). <br>\n",
    "> On a syntax error, you should first look at the line indicated in the error, and then at the line that is before. For example, if you omit a closing bracket at the end of a line, the error will be indicated on the next line.\n",
    "#### <span style=\"color:red\">RuntimeError</span>: Problem while the program is running, most of the time, it include information about where the error occured (which line of which functions), this is called traceback. \n",
    "> When using modules, the traceback will also be on the functions of the module, you should look at the line that is in __your__ file (by looking at the paths of the files) to see where your error is coming from.\n",
    "#### <span style=\"color:red\">Other Errors</span>: The name of the error is usually telling a lot on what went wrong, you should always read them to understand where your program is crashing, and why."
   ]
  },
  {
   "cell_type": "markdown",
   "metadata": {},
   "source": [
    "### Avoiding syntax error\n",
    "1. Make sure you are not using a Python keyword for a variable name.<br>\n",
    "2. Check that you have a colon at the end of the header of every compound statement, including for, while, if, and def statements. <br>\n",
    "3. Make sure that any strings in the code have matching quotation marks. Make sure that all quotation marks are “straight quotes”, not “curly quotes”.<br>\n",
    "4. If you have multiline strings with triple quotes (single or double), make sure you have terminated the string properly. An unterminated string may cause an invalid token error at the end of your program, or it may treat the following part of the program as a string until it comes to the next string. In the second case, it might not produce an error message at all!<br>\n",
    "5. An unclosed opening operator—(, {,or [— makes Python continue with the next line as part of the current statement. Generally,an error occurs almost immediately in the next line. <br>\n",
    "6. Check for the classic = instead of == inside a conditional.<br>\n",
    "7. Check the indentation to make sure it lines up the way it is supposed to. Python can handle space and tabs, but if you mix them it can cause problems. The best way to avoid this problem is to use a text editor that knows about Python and generates consistent indentation. <br>\n",
    "8. If you have non-ASCII characters in the code (including strings and comments), that might cause a problem, although Python 3 usually handles non-ASCII characters. Be careful if you paste in text from a web page or other source.\n",
    "\n",
    "##### Sometimes dumb things happen\n",
    "You didn't save the file after applying modifications <br>\n",
    "You changed the name of the ﬁle, but you are still running the old name.<br>\n"
   ]
  },
  {
   "cell_type": "markdown",
   "metadata": {},
   "source": [
    "### Avoiding Runtime Error\n",
    "\n",
    "1. Use `print` statements to check what you are doing. First identify parts of code that may be problematic, and then print \"Entering debugging part\" before, and \"Exiting debugging part\", so you will see what is happening\n",
    "\n",
    "2. Use a debugging decorator to make the function calls more verbal.\n"
   ]
  },
  {
   "cell_type": "code",
   "execution_count": 2,
   "metadata": {},
   "outputs": [],
   "source": [
    "def debug_decorator(f):\n",
    "    def wrapper(*args, **kwargs):\n",
    "        print(\"[DEBUG] Executing\", f.__name__)\n",
    "        return f(*args, **kwargs)\n",
    "    return wrapper"
   ]
  },
  {
   "cell_type": "markdown",
   "metadata": {},
   "source": [
    "### Other errors\n",
    "NameError: You are trying to use a variable that doesn’t exist in the current environment. <br>\n",
    "TypeError: \n",
    "-  You are trying to use a variable improperly, example: Indexing a string with something else than an integer\n",
    "-  You're passing the wrong number of argument\n",
    "> for class methods, check if `self` is in the method definition.\n",
    "\n",
    "<Br>\n",
    "KeyError: You are trying to access an element of a dictionary using a key that the dictionary does not contain.<br>\n",
    "IndexError: The index you are using to access the container is greater than its length minus one."
   ]
  },
  {
   "cell_type": "markdown",
   "metadata": {},
   "source": [
    "***\n",
    "# Exercises"
   ]
  },
  {
   "cell_type": "markdown",
   "metadata": {},
   "source": [
    "### 1. Are those statements legals?"
   ]
  },
  {
   "cell_type": "code",
   "execution_count": 1,
   "metadata": {},
   "outputs": [],
   "source": [
    "n = 42\n"
   ]
  },
  {
   "cell_type": "code",
   "execution_count": 2,
   "metadata": {},
   "outputs": [
    {
     "ename": "SyntaxError",
     "evalue": "can't assign to literal (<ipython-input-2-f0c37ed646fc>, line 1)",
     "output_type": "error",
     "traceback": [
      "\u001b[0;36m  File \u001b[0;32m\"<ipython-input-2-f0c37ed646fc>\"\u001b[0;36m, line \u001b[0;32m1\u001b[0m\n\u001b[0;31m    42 = n\u001b[0m\n\u001b[0m          ^\u001b[0m\n\u001b[0;31mSyntaxError\u001b[0m\u001b[0;31m:\u001b[0m can't assign to literal\n"
     ]
    }
   ],
   "source": [
    "42 = n"
   ]
  },
  {
   "cell_type": "code",
   "execution_count": 3,
   "metadata": {},
   "outputs": [],
   "source": [
    "x = y = 1"
   ]
  },
  {
   "cell_type": "markdown",
   "metadata": {},
   "source": [
    "### 2. What will happen if\n",
    "-  I put a semicolon `;` at the end of a python statement "
   ]
  },
  {
   "cell_type": "code",
   "execution_count": 8,
   "metadata": {},
   "outputs": [
    {
     "name": "stdout",
     "output_type": "stream",
     "text": [
      "5\n",
      "10\n"
     ]
    }
   ],
   "source": [
    "x = 5;print(x);print(x+5)"
   ]
  },
  {
   "cell_type": "code",
   "execution_count": null,
   "metadata": {},
   "outputs": [],
   "source": []
  }
 ],
 "metadata": {
  "kernelspec": {
   "display_name": "Python 3",
   "language": "python",
   "name": "python3"
  },
  "language_info": {
   "codemirror_mode": {
    "name": "ipython",
    "version": 3
   },
   "file_extension": ".py",
   "mimetype": "text/x-python",
   "name": "python",
   "nbconvert_exporter": "python",
   "pygments_lexer": "ipython3",
   "version": "3.7.3"
  }
 },
 "nbformat": 4,
 "nbformat_minor": 2
}
