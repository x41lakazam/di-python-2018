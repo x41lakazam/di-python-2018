{
 "cells": [
  {
   "cell_type": "markdown",
   "metadata": {},
   "source": [
    "# Tuples"
   ]
  },
  {
   "cell_type": "markdown",
   "metadata": {},
   "source": [
    "## Tuple ?"
   ]
  },
  {
   "cell_type": "markdown",
   "metadata": {},
   "source": [
    "Tuple is like a list but immutable"
   ]
  },
  {
   "cell_type": "markdown",
   "metadata": {},
   "source": [
    "## Defining a tuple"
   ]
  },
  {
   "cell_type": "code",
   "execution_count": 5,
   "metadata": {},
   "outputs": [],
   "source": [
    "x = (5, 6)\n",
    "x = ()\n",
    "x = 5,"
   ]
  },
  {
   "cell_type": "code",
   "execution_count": 15,
   "metadata": {},
   "outputs": [
    {
     "name": "stdout",
     "output_type": "stream",
     "text": [
      "[2, 4, 5]\n"
     ]
    }
   ],
   "source": [
    "mylist = [2,4,5]\n",
    "mytuple = tuple(mylist)\n",
    "mylistback = list(mytuple)\n",
    "print(mylistback)"
   ]
  },
  {
   "cell_type": "markdown",
   "metadata": {},
   "source": [
    "## Modifying a tuple"
   ]
  },
  {
   "cell_type": "code",
   "execution_count": null,
   "metadata": {},
   "outputs": [],
   "source": [
    "t = (4,5,6)\n",
    "t = t + (7,8)\n",
    "print(t)"
   ]
  },
  {
   "cell_type": "markdown",
   "metadata": {},
   "source": [
    "## Unpacking a tuple"
   ]
  },
  {
   "cell_type": "code",
   "execution_count": null,
   "metadata": {
    "scrolled": true
   },
   "outputs": [],
   "source": [
    "x = ('John', 'Maria', 'another', 'Rex')\n",
    "father, mother, another, brother = x"
   ]
  },
  {
   "cell_type": "markdown",
   "metadata": {},
   "source": [
    "## Returning a tuple"
   ]
  },
  {
   "cell_type": "code",
   "execution_count": null,
   "metadata": {},
   "outputs": [],
   "source": [
    "def get_car_info(carname):\n",
    "    mydict = {'kia picanto': (1500, 2014),\n",
    "           'mitsubishi attrage': (1000, 2012)}\n",
    "    return mydict[carname] # (1500, 2014)\n",
    "\n",
    "engine_volume, year = get_car_info('kia picanto')\n",
    "\n",
    "print(engine_volume)\n",
    "print(year)"
   ]
  },
  {
   "cell_type": "code",
   "execution_count": null,
   "metadata": {},
   "outputs": [],
   "source": [
    "def maxmin(arr):\n",
    "    maximum = max(arr)\n",
    "    minimum = min(arr)\n",
    "    return maximum, minimum\n",
    "\n",
    "maximum, minimum = maxmin([3,23,2435,256,42752,3451342,56])\n",
    "print(maximum)\n",
    "print(minimum)"
   ]
  },
  {
   "cell_type": "markdown",
   "metadata": {},
   "source": [
    "## The case of enumerate"
   ]
  },
  {
   "cell_type": "code",
   "execution_count": 30,
   "metadata": {
    "scrolled": true
   },
   "outputs": [
    {
     "name": "stdout",
     "output_type": "stream",
     "text": [
      "0 --> a\n",
      "1 --> b\n",
      "2 --> c\n",
      "3 --> d\n"
     ]
    }
   ],
   "source": [
    "arr = ['a', 'b', 'c', 'd']\n",
    "\n",
    "for ix, elem in enumerate(arr):    \n",
    "    print(ix,'-->',elem)"
   ]
  },
  {
   "cell_type": "markdown",
   "metadata": {},
   "source": [
    "## ZIP"
   ]
  },
  {
   "cell_type": "code",
   "execution_count": null,
   "metadata": {},
   "outputs": [],
   "source": [
    "first_names = ['eyal', 'john', 'rex']\n",
    "last_names  = ['Chocron', 'Cohen', 'Cohenus']\n",
    "\n",
    "for elem1, elem2 in zip(first_names, last_names):\n",
    "    print(elem1, elem2)"
   ]
  },
  {
   "cell_type": "markdown",
   "metadata": {},
   "source": [
    "*****\n",
    "# Exercise 1"
   ]
  },
  {
   "cell_type": "markdown",
   "metadata": {},
   "source": [
    "### 1 \n",
    "Write a list `me_list` with 3 items: Your first name, your last name and your age\n",
    "### 2\n",
    "Convert it to a tuple `me_tuple`\n",
    "### 3\n",
    "Manually print a little phrase with all the items\n",
    "### 4\n",
    "Unpack this tuple into three variables\n",
    "\n"
   ]
  },
  {
   "cell_type": "markdown",
   "metadata": {},
   "source": [
    "***\n",
    "# Exercise 2\n",
    "\n",
    "### 1 \n",
    "Make a list `me_list` in this format:<br>\n",
    "<pre>\n",
    "<code>\n",
    "   me_list = [(\"name\",\"Eyal\"), \n",
    "            (\"age\",20), \n",
    "            (\"hobbies\", ['eating', 'coding', 'eating']) ]</code></pre>\n",
    "### 2 \n",
    "Make a function that convert that type of list into dictionnary"
   ]
  },
  {
   "cell_type": "code",
   "execution_count": null,
   "metadata": {},
   "outputs": [],
   "source": []
  }
 ],
 "metadata": {
  "kernelspec": {
   "display_name": "Python 3",
   "language": "python",
   "name": "python3"
  },
  "language_info": {
   "codemirror_mode": {
    "name": "ipython",
    "version": 3
   },
   "file_extension": ".py",
   "mimetype": "text/x-python",
   "name": "python",
   "nbconvert_exporter": "python",
   "pygments_lexer": "ipython3",
   "version": "3.7.3"
  }
 },
 "nbformat": 4,
 "nbformat_minor": 2
}
