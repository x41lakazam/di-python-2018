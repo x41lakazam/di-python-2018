{
 "cells": [
  {
   "cell_type": "markdown",
   "metadata": {},
   "source": [
    "# Sockets"
   ]
  },
  {
   "cell_type": "markdown",
   "metadata": {},
   "source": [
    "## What is an ip"
   ]
  },
  {
   "cell_type": "markdown",
   "metadata": {},
   "source": [
    "The ip address is the name of a connected device, every connected computer has an address and this is the only way to communicate from a device to another."
   ]
  },
  {
   "cell_type": "markdown",
   "metadata": {},
   "source": [
    "> Ip can be retrieved by typing ipconfig (ifconfig for MacOS/Linux) in the terminal"
   ]
  },
  {
   "cell_type": "markdown",
   "metadata": {},
   "source": [
    "## What is a port"
   ]
  },
  {
   "cell_type": "markdown",
   "metadata": {},
   "source": [
    "In the device, a lot of \"doors\" are availables to send and receive data, they are called port. Only one program can be assigned (bound) to a port."
   ]
  },
  {
   "cell_type": "markdown",
   "metadata": {},
   "source": [
    "## Server and client"
   ]
  },
  {
   "cell_type": "markdown",
   "metadata": {},
   "source": [
    "The __server__ is always \"opened\", he is listening for connections to come, while the client is actively connecting to a target."
   ]
  },
  {
   "cell_type": "markdown",
   "metadata": {},
   "source": [
    "## What is a socket"
   ]
  },
  {
   "cell_type": "markdown",
   "metadata": {},
   "source": [
    "A socket is a connection between two computers, it's like a \"tunnel\". He is assigned to a specific port on each computer (it doesn't have to be the same port)."
   ]
  },
  {
   "cell_type": "code",
   "execution_count": 2,
   "metadata": {},
   "outputs": [],
   "source": [
    "import socket"
   ]
  },
  {
   "cell_type": "markdown",
   "metadata": {},
   "source": [
    "### Create a socket"
   ]
  },
  {
   "cell_type": "code",
   "execution_count": 3,
   "metadata": {},
   "outputs": [],
   "source": [
    "my_socket = socket.socket(socket.AF_INET, socket.SOCK_STREAM)"
   ]
  },
  {
   "cell_type": "markdown",
   "metadata": {},
   "source": [
    "### Send and receive data"
   ]
  },
  {
   "cell_type": "code",
   "execution_count": null,
   "metadata": {},
   "outputs": [],
   "source": [
    "my_socket.send(bytes_msg) # Message should be encoded --> \"hello world\".encode('utf-8')\n",
    "my_socket.recv(buffer_size) # Max amount of data that can be received "
   ]
  },
  {
   "cell_type": "markdown",
   "metadata": {},
   "source": [
    "## Server socket"
   ]
  },
  {
   "cell_type": "markdown",
   "metadata": {},
   "source": [
    "\n",
    "## Client socket"
   ]
  },
  {
   "cell_type": "markdown",
   "metadata": {},
   "source": [
    "-  `my_socket.connect((ip, port))` connect a socket to an ip and a port"
   ]
  },
  {
   "cell_type": "code",
   "execution_count": null,
   "metadata": {},
   "outputs": [],
   "source": [
    "target_ip   = \"192.168.36.1\"\n",
    "target_port = 35555\n",
    "\n",
    "my_socket.connect([target_ip, target_port])"
   ]
  },
  {
   "cell_type": "markdown",
   "metadata": {},
   "source": [
    "# Little project\n",
    "Write a chat app"
   ]
  },
  {
   "cell_type": "markdown",
   "metadata": {},
   "source": [
    "## First part: The server"
   ]
  },
  {
   "cell_type": "code",
   "execution_count": null,
   "metadata": {},
   "outputs": [],
   "source": [
    "import threading\n",
    "import socket\n",
    "\n",
    "server_socket = socket.socket(socket.AF_INET, socket.SOCK_STREAM)\n",
    "\n",
    "bind_addr = '0.0.0.0'\n",
    "bind_port = 35001\n",
    "\n",
    "server_socket.bind((bind_addr, bind_port))\n",
    "\n",
    "server_socket.listen(5)\n",
    "print(\"[*] Listening on {}:{}\".format(bind_addr, bind_port))\n",
    "\n",
    "def client_handler(client_socket, client_ip):\n",
    "    welcome_msg = \"Hello my friend!\"\n",
    "    client_socket.send(welcome_msg.encode('utf-8'))\n",
    "    while True:\n",
    "        try:\n",
    "            client_message = client_socket.recv(4096)\n",
    "            print(\"{} Says: {}\".format(client_ip, client_message.encode('utf-8')))\n",
    "            response = input(\">>> \")\n",
    "            if len(response.strip()):\n",
    "                print(response.decode('utf-8'))\n",
    "        except:\n",
    "            print(\"[*] Problem on {}, exiting!\".format(client_ip))\n",
    "            client_socket.close()\n",
    "        \n",
    "    \n",
    "while True:\n",
    "    client_socket, client_addr = server_socket.accept()\n",
    "    print(\"[*] Connected to: {}\".format(client_addr))\n",
    "    client_thread = threading.Thread(target=client_handler, args=[client_socket, client_addr[0]])\n",
    "    client_thread.start()\n",
    "\n"
   ]
  },
  {
   "cell_type": "markdown",
   "metadata": {},
   "source": [
    "## Second part, in another file - The client"
   ]
  },
  {
   "cell_type": "code",
   "execution_count": null,
   "metadata": {},
   "outputs": [],
   "source": [
    "import socket\n",
    "\n",
    "client_socket = socket.socket(socket.AF_INET, socket.SOCK_STREAM)\n",
    "\n",
    "# target_ip   = input(\"Input target ip..\\n>>>\")\n",
    "# target_port = input(\"Input target port..\\n>>>\")\n",
    "# target_port = int(target_port)\n",
    "target_ip = '192.168.31.28'\n",
    "target_port = 35001\n",
    "\n",
    "client_socket.connect((target_ip, target_port))\n",
    "\n",
    "while True:\n",
    "    server_msg = client_socket.recv(4096)\n",
    "    print(\"[SERVER] {}\".format(server_msg.decode('utf-8')))\n",
    "    \n",
    "    client_msg = input(\">>> \")\n",
    "    if client_msg.lower() == 'exit':\n",
    "        client_socket.close()\n",
    "    client_socket.send(client_msg.encode('utf-8'))\n",
    "    "
   ]
  }
 ],
 "metadata": {
  "kernelspec": {
   "display_name": "Python 3",
   "language": "python",
   "name": "python3"
  },
  "language_info": {
   "codemirror_mode": {
    "name": "ipython",
    "version": 3
   },
   "file_extension": ".py",
   "mimetype": "text/x-python",
   "name": "python",
   "nbconvert_exporter": "python",
   "pygments_lexer": "ipython3",
   "version": "3.7.3"
  }
 },
 "nbformat": 4,
 "nbformat_minor": 2
}
