{
 "cells": [
  {
   "cell_type": "markdown",
   "metadata": {},
   "source": [
    "# Exercise 1 - Dict\n",
    "Extract a dictionnary from a file.<br>\n",
    "The file is this format:<br>\n",
    "<pre>\n",
    "name:::eyal\n",
    "age:::18\n",
    "adress:::allenby, 3\n",
    "favourite_color:::blue\n",
    "</pre>\n",
    "Output is: `{'name':'eyal', 'age':'18','address':'allenby, 3', 'favourite_color':'blue'}`"
   ]
  },
  {
   "cell_type": "code",
   "execution_count": null,
   "metadata": {},
   "outputs": [],
   "source": [
    "with open(\"myfile.txt\", 'r') as f:\n",
    "    lines = f.readlines()\n",
    "    \n",
    "mydict = {}\n",
    "for line in lines:\n",
    "    name = line.split(':::')[0]\n",
    "    value= line.split(':::')[1]\n",
    "    mydict[name] = value\n",
    "   \n",
    "import re\n",
    "regex = r\"(\\w+):::(\\w+)\"\n",
    "with open(\"myfile.txt\", 'r') as f:\n",
    "    filecontent = f.read()\n",
    "\n",
    "matches = re.findall(regex, filecontent)\n",
    "mydict = {}\n",
    "for match in matches:\n",
    "    mydict[match[0]] = match[1]"
   ]
  },
  {
   "cell_type": "markdown",
   "metadata": {},
   "source": [
    "# Exercise 2 - Parsing url\n",
    "Write a Python program to find urls in a string."
   ]
  },
  {
   "cell_type": "code",
   "execution_count": 2,
   "metadata": {},
   "outputs": [],
   "source": [
    "url_regex = r\"https?://w{3}.[a-zA-Z0-9-._]+.[a-zA-Z.]\""
   ]
  },
  {
   "cell_type": "markdown",
   "metadata": {},
   "source": [
    "# Exercise 3 - Parsing quotes\n",
    "Write a Python program to find all quoted part in a string"
   ]
  },
  {
   "cell_type": "code",
   "execution_count": 4,
   "metadata": {},
   "outputs": [],
   "source": [
    "quotes_regex = r'\"(.+)\"'"
   ]
  },
  {
   "cell_type": "markdown",
   "metadata": {},
   "source": [
    "# Exercise 4 - Read two files\n",
    "Given two files, write a Python program to combine each line from first file with the corresponding line in second file, and then print it."
   ]
  },
  {
   "cell_type": "code",
   "execution_count": null,
   "metadata": {},
   "outputs": [],
   "source": [
    "myfile1 = \"text1.txt\"\n",
    "myfile2 = \"text2.txt\"\n",
    "\n",
    "# Get the lines of every file\n",
    "with open(myfile1, 'r') as f:\n",
    "    lines1 = f.readlines()\n",
    "    \n",
    "with open(myfile2, 'r') as f:\n",
    "    lines2 = f.readlines()\n",
    "\n",
    "# 1st way\n",
    "# min_len = min(len(myfile1), len(myfile2))\n",
    "# for i in range(min_len):\n",
    "#     print(lines1[i], \"<--->\", lines2[i])\n",
    "# LIST1 = [1,2,3,4,5]\n",
    "# LIST2 = [10,20,30,40,50]\n",
    "for line1, line2 in zip(lines1, lines2):\n",
    "    print(line1,'<-->',line2)"
   ]
  },
  {
   "cell_type": "markdown",
   "metadata": {},
   "source": [
    "# Exercise 5 - Find the longest word\n",
    "Find the longest word in a file. "
   ]
  },
  {
   "cell_type": "code",
   "execution_count": 16,
   "metadata": {},
   "outputs": [
    {
     "name": "stdout",
     "output_type": "stream",
     "text": [
      "The longest word is: really (6 letters)\n"
     ]
    }
   ],
   "source": [
    "# with open('file.txt','r') as f:\n",
    "#     content = f.read()\n",
    "\n",
    "content = \"hey i am eyal\\n i am really happy to be, here.\"\n",
    "getrid = ['\\n','.', '-', ',', ':']\n",
    "for elem in getrid:\n",
    "    content = content.replace(elem, '')\n",
    "\n",
    "words = content.split(' ')\n",
    "\n",
    "uniques = set(words)\n",
    "\n",
    "longest_word = \"\"\n",
    "max_length = 0\n",
    "\n",
    "for word in uniques:\n",
    "    if len(word) > max_length:\n",
    "        longest_word = word\n",
    "        max_length = len(word)\n",
    "\n",
    "print(\"The longest word is: {} ({} letters)\".format(longest_word, max_length))"
   ]
  },
  {
   "cell_type": "markdown",
   "metadata": {},
   "source": [
    "# Exercise 6 - Occurences\n",
    "Given a word, count the frequency of this word in a file. "
   ]
  },
  {
   "cell_type": "code",
   "execution_count": null,
   "metadata": {},
   "outputs": [],
   "source": [
    "myfile = \"textfile.txt\"\n",
    "search = \"hello\"\n",
    "\n",
    "with open('file.txt','r') as f:\n",
    "    content = f.read()\n",
    "\n",
    "count = 0\n",
    "getrid = ['\\n','.', '-', ',', ':']\n",
    "for elem in getrid:\n",
    "    content = content.replace(elem, '')\n",
    "\n",
    "for word in content.split(' '):\n",
    "    if word.lower() == search.lower():\n",
    "        count += 1\n",
    "\n",
    "regex = '\\W'+search+'\\W'\n",
    "occurences = len(re.findall(regex, content))\n"
   ]
  },
  {
   "cell_type": "markdown",
   "metadata": {},
   "source": [
    "# Bonus ~ PEP 8 \n",
    "Choose some PEP8 rules, and then make a program that check for syntax errors in python files "
   ]
  },
  {
   "cell_type": "code",
   "execution_count": null,
   "metadata": {},
   "outputs": [],
   "source": []
  }
 ],
 "metadata": {
  "kernelspec": {
   "display_name": "Python 3",
   "language": "python",
   "name": "python3"
  },
  "language_info": {
   "codemirror_mode": {
    "name": "ipython",
    "version": 3
   },
   "file_extension": ".py",
   "mimetype": "text/x-python",
   "name": "python",
   "nbconvert_exporter": "python",
   "pygments_lexer": "ipython3",
   "version": "3.7.3"
  }
 },
 "nbformat": 4,
 "nbformat_minor": 2
}
